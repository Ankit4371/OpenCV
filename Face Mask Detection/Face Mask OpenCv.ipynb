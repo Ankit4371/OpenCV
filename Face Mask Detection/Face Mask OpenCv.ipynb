{
 "cells": [
  {
   "cell_type": "code",
   "execution_count": 1,
   "metadata": {},
   "outputs": [],
   "source": [
    "from tensorflow.keras.models import load_model\n",
    "import cv2\n",
    "import numpy as np\n",
    "from imutils.video import VideoStream\n",
    "import imutils\n",
    "import time"
   ]
  },
  {
   "cell_type": "code",
   "execution_count": null,
   "metadata": {},
   "outputs": [],
   "source": [
    "model = load_model('my_model.h5')"
   ]
  },
  {
   "cell_type": "code",
   "execution_count": null,
   "metadata": {},
   "outputs": [],
   "source": [
    "\n",
    "\n",
    "prototxt_path = \"deploy.prototxt.txt\"\n",
    "model_path = \"res10_300x300_ssd_iter_140000.caffemodel\"\n",
    "dnn_model = cv2.dnn.readNetFromCaffe(prototxt_path, model_path)\n",
    "\n",
    "print(\"Opening WebCam\")\n",
    "vs = VideoStream(src=0,framerate=30).start()\n",
    "time.sleep(2.0)\n",
    "\n",
    "while True:\n",
    "    frame = vs.read()\n",
    "    frame = imutils.resize(frame, width=640,height=480)\n",
    "\n",
    "    # Fulfiling the required input frame condition of dnn model\n",
    "    (h, w) = frame.shape[:2]\n",
    "    blob = cv2.dnn.blobFromImage(cv2.resize(frame, (300, 300)), 1.0,\n",
    "        (300, 300), (104.0, 177.0, 123.0))\n",
    "\n",
    "    dnn_model.setInput(blob)\n",
    "    detections = np.squeeze(dnn_model.forward())\n",
    "\n",
    "    for i in range(0, detections.shape[0]):\n",
    "        confidence = detections[i, 2]\n",
    "\n",
    "        if confidence < 0.45:\n",
    "            continue\n",
    "        # In detection matrix ,at index =3 to 7 there are values present of startx, starty, endx, endy\n",
    "        box = detections[i, 3:7] * np.array([w, h, w, h])\n",
    "        (startX, startY, endX, endY) = box.astype(np.int)\n",
    "        face = frame.copy()\n",
    "        face_img=face[startY:endY,startX:endX]\n",
    "        resized=cv2.resize(face_img,(64,64))\n",
    "        normalized=resized/255.0\n",
    "        reshaped=np.reshape(normalized,(1,64,64,3))\n",
    "        result=model.predict(reshaped)\n",
    "        #         print(result)\n",
    "        if result[0][0] >=0.8:\n",
    "          prediction = 'WithoutMask'\n",
    "        else:\n",
    "          prediction = 'Mask'\n",
    "        probability = prediction\n",
    "\n",
    "        y = startY - 10 if startY - 10 > 10 else startY + 10\n",
    "        cv2.rectangle(frame, (startX, startY), (endX, endY),\n",
    "            (255, 255, 0), 3)\n",
    "\n",
    "        cv2.putText(frame, probability, (startX, y),cv2.FONT_HERSHEY_SCRIPT_COMPLEX, 0.45, (0, 0, 255), 2)\n",
    "\n",
    "    # show the output frame\n",
    "    cv2.imshow(\"Real Time Output\", frame)\n",
    "    stopkey = cv2.waitKey(1) & 0xFF\n",
    " \n",
    "    # if the `q` key was pressed, break from the loop\n",
    "    if stopkey == ord(\"q\"):\n",
    "        print(\"Closing WebCam\")\n",
    "        break\n",
    "\n",
    "# do a bit of cleanup\n",
    "cv2.destroyAllWindows()\n",
    "vs.stop()\n",
    "print(\"Program is completed\")"
   ]
  }
 ],
 "metadata": {
  "kernelspec": {
   "display_name": "Python 3",
   "language": "python",
   "name": "python3"
  },
  "language_info": {
   "codemirror_mode": {
    "name": "ipython",
    "version": 3
   },
   "file_extension": ".py",
   "mimetype": "text/x-python",
   "name": "python",
   "nbconvert_exporter": "python",
   "pygments_lexer": "ipython3",
   "version": "3.6.10"
  }
 },
 "nbformat": 4,
 "nbformat_minor": 4
}
